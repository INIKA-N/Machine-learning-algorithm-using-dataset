{
  "nbformat": 4,
  "nbformat_minor": 0,
  "metadata": {
    "colab": {
      "provenance": [],
      "authorship_tag": "ABX9TyNqtq6YRI5fx9jjoyUbkaGV",
      "include_colab_link": true
    },
    "kernelspec": {
      "name": "python3",
      "display_name": "Python 3"
    },
    "language_info": {
      "name": "python"
    }
  },
  "cells": [
    {
      "cell_type": "markdown",
      "metadata": {
        "id": "view-in-github",
        "colab_type": "text"
      },
      "source": [
        "<a href=\"https://colab.research.google.com/github/INIKA-N/Machine-learning-algorithm-using-dataset/blob/main/AdaBoost.ipynb\" target=\"_parent\"><img src=\"https://colab.research.google.com/assets/colab-badge.svg\" alt=\"Open In Colab\"/></a>"
      ]
    },
    {
      "cell_type": "code",
      "execution_count": 3,
      "metadata": {
        "colab": {
          "base_uri": "https://localhost:8080/"
        },
        "id": "gRSCpOcVyU1A",
        "outputId": "f5b4ef92-660b-4568-d5ef-05d4d2e1c858"
      },
      "outputs": [
        {
          "output_type": "stream",
          "name": "stderr",
          "text": [
            "<ipython-input-3-d2866e2bf5ce>:11: FutureWarning: The frame.append method is deprecated and will be removed from pandas in a future version. Use pandas.concat instead.\n",
            "  train_test=train.append(test)   #combining train and test data (because train data is small(809) value only so combine with test data)\n"
          ]
        },
        {
          "output_type": "stream",
          "name": "stdout",
          "text": [
            "Accuracy score (training): 0.849\n",
            "Accuracy score (validation): 0.821\n"
          ]
        }
      ],
      "source": [
        "import numpy as np\n",
        "import pandas as pd\n",
        "import matplotlib.pyplot as plt\n",
        "test=pd.read_csv(\"https://raw.githubusercontent.com/ezioauditore-tech/AI/main/datasets/Titanic/test.csv\")\n",
        "train=pd.read_csv(\"https://raw.githubusercontent.com/ezioauditore-tech/AI/main/datasets/Titanic/train.csv\")\n",
        "train.set_index(\"PassengerId\",inplace=True)\n",
        "test.set_index(\"PassengerId\",inplace=True)\n",
        "y_train=train[\"Survived\"]\n",
        "train.drop(labels=\"Survived\",axis=1,inplace=True)\n",
        "train.shape\n",
        "train_test=train.append(test)   #combining train and test data (because train data is small(809) value only so combine with test data)\n",
        "train_test.shape\n",
        "columns_to_drop=[\"Name\",\"Age\",\"SibSp\",\"Ticket\",\"Cabin\",\"Parch\",\"Embarked\"]\n",
        "train_test.drop(labels=columns_to_drop,axis=1,inplace=True)\n",
        "train_test_dummies=pd.get_dummies(train_test,columns=['Sex'])\n",
        "train_test_dummies.shape\n",
        "train_test_dummies.isnull().sum()\n",
        "train_test_dummies.fillna(value=0.0,inplace=True)\n",
        "train_test_dummies.isnull().sum()\n",
        "X_train=train_test_dummies.values[0:891]\n",
        "X_test=train_test_dummies.values[891:]\n",
        "from sklearn.preprocessing import MinMaxScaler\n",
        "scaler=MinMaxScaler()\n",
        "X_train_scale=scaler.fit_transform(X_train)\n",
        "X_test_scale=scaler.transform(X_test)\n",
        "from sklearn.model_selection import train_test_split\n",
        "X_train_sub,X_test_sub,y_train_sub,y_test_sub = train_test_split(X_train_scale,y_train,random_state=0)\n",
        "from sklearn.ensemble import AdaBoostClassifier\n",
        "from sklearn.metrics import classification_report, confusion_matrix\n",
        "n_estimators = 600\n",
        "ada = AdaBoostClassifier(n_estimators=n_estimators, random_state=0)\n",
        "ada.fit(X_train_sub, y_train_sub)\n",
        "print(\"Accuracy score (training): {0:.3f}\".format(ada.score(X_train_sub, y_train_sub)))\n",
        "print(\"Accuracy score (validation): {0:.3f}\".format(ada.score(X_test_sub, y_test_sub)))"
      ]
    }
  ]
}